{
 "cells": [
  {
   "cell_type": "code",
   "execution_count": null,
   "id": "042e341b-63b3-4239-ac85-3d9a8b904eb4",
   "metadata": {},
   "outputs": [],
   "source": [
    "1.Explain why we have to use the Exception class while crating a custom Exception.\n",
    "Ans-\n",
    "    In python,the built-in'Exception'class is the base class for all exceptions. when we create a custom exception,we usually want it to behave like a standard exception and be compatible with the existing exception handling mechanism in python.To achieve this,we need to inherit our custom exception class from the'exception' class.\n",
    "    \n",
    "    By inheriting from the 'exception'class our custom exception inherits all the functionality of base class,such as the ability to print a traceback,get a message string,and interact with other exceptions.This allows us to use our custom exception in the same way as the built-in exceptions,with the same 'try-except'block syntax.\n",
    "    \n",
    "    in addition,by inheriting from the'Exception' class,we can make use of the built-in exception hierarchy in python.This means that our custom exception can be part of larger hierarchy of exceptions,with more specific exceptions inheriting from more general ones.This makes it easier to organize and handle different types of exception in our code.\n"
   ]
  },
  {
   "cell_type": "code",
   "execution_count": null,
   "id": "927fa2e4-4894-4bc5-a673-e5b94cadf967",
   "metadata": {},
   "outputs": [],
   "source": [
    "2.Write a program to print python Exception Hierarchy.\n",
    "Ans-\n",
    "     import sys\n",
    "    \n",
    "    def print_exception_hierarchy(exc):\n",
    "        print(type(exc))\n",
    "        for subclass in exc.__subclasses__():\n",
    "            print_exception_hierarchy(subclass)\n",
    "            \n",
    "    print_exception_hierarchy(BaseException)"
   ]
  },
  {
   "cell_type": "code",
   "execution_count": null,
   "id": "867ca203-631a-4094-a86a-fc9eaa33590b",
   "metadata": {},
   "outputs": [],
   "source": [
    "3.What errors are defined in the ArithmeticError class? Explain any two with an example.\n",
    "Ans-\n",
    "   The 'ArithmeticError' class is a built-in exception class in python that serves as a base class for all exceptions that occure during arithmetic operations.It is a subclass of the 'exception'class and itself the parent class for several more specific arithmetic-related exception classes.\n",
    "    \n",
    "    1.\"ZeroDivisionError\":\n",
    "          This exception is raised when we try to divide a number by zero.\n",
    "        \n",
    "        for example:\n",
    "                     a = 10\n",
    "                     b = 0\n",
    "            try:\n",
    "                     c = a / b\n",
    "            except ZeroDivisionError:\n",
    "                    print(\"Error cannot divide by zero\")\n",
    "                    \n",
    "    2.\"OverflowError\":\n",
    "           This exception is raised when a calculation exceeds the maximum representable value for a numerical type\n",
    "        \n",
    "        for example:\n",
    "                     import sys \n",
    "                     a = sys.maxsize\n",
    "                    try:\n",
    "                        b = a * a\n",
    "                    except OverflowError:\n",
    "                           print(\"Error:Result too large to represents as a number\")\n",
    "                            \n",
    "overall,The \"ArithmaticError\"class and its derived exceptions are useful for handling errors that occurs during arithmatic operations,such as division by zero,integer overflow,or other numerical errors.                        \n",
    "                "
   ]
  },
  {
   "cell_type": "code",
   "execution_count": null,
   "id": "afef4715-6e8e-4ceb-b233-c62e733f46f1",
   "metadata": {},
   "outputs": [],
   "source": [
    "4.Why LookupError class is used? Explain with an example KeyError and IndexError.\n",
    "Ans-\n",
    "     The \"LookupError\" class is a built-in exception class in python that serves as a base class for all exceptions that occure when a key or index not found during a lookup operation.It is a subclass of the \"Exception\"class and its itself the parent class for several more specific lookup-related exception classes.\n",
    "    \n",
    "    1.KeyError- This exception is raised when a dictionary key is not found in the dictionary.\n",
    "    \n",
    "     for example :\n",
    "                   my_dict = {'a': 1, 'b' : 2 ,'c' : 3}\n",
    "                try:\n",
    "                    value = my_dict['d']\n",
    "                except KeyError:\n",
    "                      print(\"Error: Key 'd' not found in dictionary\")\n",
    "                        \n",
    "    2.IndexError: This exception is raised when we try to access an index that is out of range for alist or other sequences.\n",
    "             \n",
    "        for example:\n",
    "                      my_list = [1,2,3]\n",
    "                        try:\n",
    "                             value = my_list[3]\n",
    "                        except IndexError:\n",
    "                            print(\"Error : Index 3 is out of range for list\")\n",
    "                            \n",
    "                            \n",
    "    "
   ]
  },
  {
   "cell_type": "code",
   "execution_count": null,
   "id": "009776f7-b50b-4b7a-aa4e-9540104e667d",
   "metadata": {},
   "outputs": [],
   "source": [
    "5.Explain ImportError.What is ModuleNotFoundError?\n",
    "Ans-\n",
    "    \"ImportError\" is a built-in Exception class in python that is raised when an imported module,package,or name cannot be found or loaded.This can occure due to various reasons such as misspelled module name,missing dependencies or incorrect python path settings.\n",
    "    for example- \"ModuleNotFoundFrror\" is a more specific type of \"ImportError\" that was introduced in python 3.6.\n",
    "    \n",
    "    #python 3.6 and later\n",
    "    import foo #raises ModuleNotFoundError: No module named 'foo'\n",
    "    \n",
    "    #python 3.5 and earlier\n",
    "    import foo #raises ImportError: No module named 'foo'\n",
    "    \n",
    "    \"ModuleNotFoundError\" some other types of \"ImportError\"that we may encounter include:\n",
    "        \n",
    "        1.\"ImportError:cannot import name\"\n",
    "        2.\"ImportError:DLL load failed\""
   ]
  },
  {
   "cell_type": "code",
   "execution_count": null,
   "id": "cacd73f4-6f1c-4b5e-a8bc-20d64daf7c2d",
   "metadata": {},
   "outputs": [],
   "source": [
    "6.List down some best practices for exception handling in python.\n",
    "Ans-\n",
    "      1.Catch Specific exceptions\n",
    "      2.Use try-except blocks\n",
    "      3.Use finally block\n",
    "      4.Raise exception\n",
    "      5.provide useful error messages\n",
    "      6.Log the exceptions\n",
    "      7.Use context managers\n",
    "      8.Test exception handling"
   ]
  }
 ],
 "metadata": {
  "kernelspec": {
   "display_name": "Python 3 (ipykernel)",
   "language": "python",
   "name": "python3"
  },
  "language_info": {
   "codemirror_mode": {
    "name": "ipython",
    "version": 3
   },
   "file_extension": ".py",
   "mimetype": "text/x-python",
   "name": "python",
   "nbconvert_exporter": "python",
   "pygments_lexer": "ipython3",
   "version": "3.10.8"
  }
 },
 "nbformat": 4,
 "nbformat_minor": 5
}
