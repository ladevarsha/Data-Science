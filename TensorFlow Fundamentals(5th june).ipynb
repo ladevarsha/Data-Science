{
 "cells": [
  {
   "cell_type": "markdown",
   "id": "95a0d42e-9283-4c36-bf72-d3c2b4868a43",
   "metadata": {},
   "source": [
    "## Part 1: Theoretical Queltions."
   ]
  },
  {
   "cell_type": "markdown",
   "id": "42b061f3-dea8-44d9-b6b7-9b2b5a4543b9",
   "metadata": {},
   "source": [
    "### Q1. What are the different data structures used in Tensorflow? Give some examples."
   ]
  },
  {
   "cell_type": "markdown",
   "id": "f99005ee-26e7-414d-8a0c-a5451bdf88e9",
   "metadata": {},
   "source": [
    "TensorFlow, an open-source machine learning framework, primarily uses tensors as the fundamental data structure for representing and manipulating data. However, TensorFlow also provides several specialized data structures and containers that are commonly used in conjunction with tensors. Here are some of the key data structures used in TensorFlow:\n",
    "\n",
    "1. **Tensor:** A tensor is a multi-dimensional array, similar to a matrix or a NumPy array. Tensors are the primary data structure used for computations in TensorFlow. Tensors can have different ranks (number of dimensions) such as scalars (rank-0), vectors (rank-1), matrices (rank-2), and higher-dimensional tensors. Examples include:\n",
    "\n",
    "   - Scalar: 5\n",
    "   - Vector: [1, 2, 3]\n",
    "   - Matrix: [[1, 2], [3, 4]]\n",
    "\n",
    "2. **Variable:** A Variable is a special type of tensor that allows for mutable state. It is often used to represent trainable parameters in machine learning models. Variables can be updated during the training process, making them suitable for storing and updating model weights and biases.\n",
    "\n",
    "3. **Placeholder:** In earlier versions of TensorFlow, placeholders were used to define inputs to a computational graph. However, as of TensorFlow 2.0, eager execution is the default mode, and placeholders are no longer necessary. Placeholder-like behavior can be achieved using regular tensors or function arguments.\n",
    "\n",
    "4. **SparseTensor:** A SparseTensor is a data structure used to efficiently represent tensors with a large number of zero or sparse values. It stores only the non-zero values and their corresponding indices, reducing memory consumption and improving computation speed for sparse data.\n",
    "\n",
    "5. **Dataset:** The Dataset API provides a way to represent a collection of data elements, such as training or validation samples, as a sequence of elements. Datasets are designed to efficiently handle large volumes of data and provide various operations for data preprocessing and transformation, such as shuffling, batching, and mapping.\n",
    "\n",
    "6. **RaggedTensor:** A RaggedTensor is used to represent tensors with varying dimensions along one or more axes. It is suitable for irregular or nested data structures where the number of elements in a tensor's dimensions can vary. Examples include sentences of varying lengths or hierarchical data.\n",
    "\n",
    "7. **SparseTensorValue:** This is not a data structure per se, but it represents the value of a SparseTensor in TensorFlow. It contains the non-zero values and their corresponding indices in a sparse tensor."
   ]
  },
  {
   "cell_type": "markdown",
   "id": "f7a2f840-622a-423b-89d2-5a960b8f8cfb",
   "metadata": {},
   "source": [
    "### Q2. How does the TensorFlow constant differ from a TensorFlow variable? Explain with an example."
   ]
  },
  {
   "cell_type": "markdown",
   "id": "b8acc2f2-a4aa-4b77-8b3c-8c4199bbe421",
   "metadata": {},
   "source": [
    "In TensorFlow, constants and variables are two different types of data structures that serve distinct purposes in building and training machine learning models. Here's how they differ:\n",
    "\n",
    "**TensorFlow Constant:**\n",
    "- A constant in TensorFlow is a fixed value that remains unchanged throughout the execution of a computational graph.\n",
    "- Once a constant is defined, its value cannot be modified.\n",
    "- Constants are typically used to represent fixed values such as hyperparameters or input data that doesn't require updates during training.\n",
    "- Constants are primarily used for providing inputs to the model.\n",
    "- The value of a constant is set during its initialization and remains the same during the entire execution."
   ]
  },
  {
   "cell_type": "code",
   "execution_count": 1,
   "id": "339492f1-61f3-42c5-b372-78183cfdf08d",
   "metadata": {},
   "outputs": [
    {
     "name": "stderr",
     "output_type": "stream",
     "text": [
      "2023-07-25 03:39:24.935420: I tensorflow/tsl/cuda/cudart_stub.cc:28] Could not find cuda drivers on your machine, GPU will not be used.\n",
      "2023-07-25 03:39:25.008154: I tensorflow/tsl/cuda/cudart_stub.cc:28] Could not find cuda drivers on your machine, GPU will not be used.\n",
      "2023-07-25 03:39:25.009644: I tensorflow/core/platform/cpu_feature_guard.cc:182] This TensorFlow binary is optimized to use available CPU instructions in performance-critical operations.\n",
      "To enable the following instructions: AVX2 FMA, in other operations, rebuild TensorFlow with the appropriate compiler flags.\n",
      "2023-07-25 03:39:26.223057: W tensorflow/compiler/tf2tensorrt/utils/py_utils.cc:38] TF-TRT Warning: Could not find TensorRT\n"
     ]
    },
    {
     "data": {
      "text/plain": [
       "5"
      ]
     },
     "execution_count": 1,
     "metadata": {},
     "output_type": "execute_result"
    }
   ],
   "source": [
    "import tensorflow as tf\n",
    "\n",
    "# Creating a TensorFlow constant\n",
    "constant = tf.constant(5)\n",
    "constant.numpy()"
   ]
  },
  {
   "cell_type": "markdown",
   "id": "329d3ebe-276b-4e60-9a35-07cb0b2128f8",
   "metadata": {},
   "source": [
    "**TensorFlow Variable:**\n",
    "\n",
    "- A variable in TensorFlow represents a mutable state that can be updated and modified during model training.\n",
    "- Variables are typically used to store and update trainable parameters such as weights and biases in machine learning models.\n",
    "- Unlike constants, variables can be modified by TensorFlow operations during training.\n",
    "- Variables are initialized with an initial value, but their values can change as the model learns and updates its parameters."
   ]
  },
  {
   "cell_type": "code",
   "execution_count": 2,
   "id": "1ca3d9c2-2998-4f2a-a98f-f8508238f01f",
   "metadata": {},
   "outputs": [
    {
     "data": {
      "text/plain": [
       "<tf.Variable 'Variable:0' shape=(3, 3) dtype=float32, numpy=\n",
       "array([[ 1.6473486 ,  1.2147368 , -0.05718518],\n",
       "       [-1.2673038 ,  2.0999029 , -0.7397722 ],\n",
       "       [ 0.00845411,  0.20931548,  0.06121462]], dtype=float32)>"
      ]
     },
     "execution_count": 2,
     "metadata": {},
     "output_type": "execute_result"
    }
   ],
   "source": [
    "import tensorflow as tf\n",
    "\n",
    "variable = tf.Variable(initial_value=tf.random.normal(shape=(3, 3)), trainable=True)\n",
    "variable"
   ]
  },
  {
   "cell_type": "markdown",
   "id": "c35b651a-3b17-4c05-b660-cdb8413d6597",
   "metadata": {},
   "source": [
    "### Q3. Describe the process of matrix addition, multiplication, and element-wise operations in TensorFlow."
   ]
  },
  {
   "cell_type": "markdown",
   "id": "a8622a17-13eb-4d40-a096-d46ce02073e8",
   "metadata": {},
   "source": [
    "**Matrix addition**"
   ]
  },
  {
   "cell_type": "code",
   "execution_count": 3,
   "id": "9aab54f4-e15e-4d51-9877-03edc75305aa",
   "metadata": {},
   "outputs": [
    {
     "data": {
      "text/plain": [
       "<tf.Tensor: shape=(2, 2), dtype=int32, numpy=\n",
       "array([[ 6,  8],\n",
       "       [10, 12]], dtype=int32)>"
      ]
     },
     "execution_count": 3,
     "metadata": {},
     "output_type": "execute_result"
    }
   ],
   "source": [
    "mat1=tf.constant([[1,2],[3,4]])\n",
    "mat2=tf.constant([[5,6],[7,8]])\n",
    "\n",
    "res=tf.add(mat1, mat2) \n",
    "res"
   ]
  },
  {
   "cell_type": "markdown",
   "id": "3b5369ca-e8f0-49f0-b63c-764ce854481b",
   "metadata": {},
   "source": [
    "**Matrix multilpication**"
   ]
  },
  {
   "cell_type": "code",
   "execution_count": 5,
   "id": "9cff954a-208c-46e3-afb4-3901fa9f986e",
   "metadata": {},
   "outputs": [
    {
     "data": {
      "text/plain": [
       "<tf.Tensor: shape=(2, 2), dtype=int32, numpy=\n",
       "array([[19, 22],\n",
       "       [43, 50]], dtype=int32)>"
      ]
     },
     "execution_count": 5,
     "metadata": {},
     "output_type": "execute_result"
    }
   ],
   "source": [
    "mat1=tf.constant([[1,2],[3,4]])\n",
    "mat2=tf.constant([[5,6],[7,8]])\n",
    "\n",
    "res=tf.matmul(mat1,mat2)\n",
    "res"
   ]
  },
  {
   "cell_type": "markdown",
   "id": "5a77ce20-cc1e-4fb5-ad4f-a3d95db26ad3",
   "metadata": {},
   "source": [
    "**Element-wise Operation:**"
   ]
  },
  {
   "cell_type": "code",
   "execution_count": 6,
   "id": "e12d75a4-ab30-4447-be95-d81a5c146101",
   "metadata": {},
   "outputs": [
    {
     "name": "stdout",
     "output_type": "stream",
     "text": [
      "tf.Tensor([5 7 9], shape=(3,), dtype=int32)\n",
      "\n",
      "tf.Tensor([ 4 10 18], shape=(3,), dtype=int32)\n"
     ]
    }
   ],
   "source": [
    "tensor1 = tf.constant([1, 2, 3])\n",
    "tensor2 = tf.constant([4, 5, 6])\n",
    "\n",
    "add_res=tf.add(tensor1,tensor2)\n",
    "mul_res=tf.multiply(tensor1,tensor2)\n",
    "\n",
    "print(add_res)\n",
    "print()\n",
    "print(mul_res)"
   ]
  },
  {
   "cell_type": "markdown",
   "id": "96dd4bf1-6bf6-4725-a1b3-8f252a36890a",
   "metadata": {},
   "source": [
    "## Part2 : Practical Implementation"
   ]
  },
  {
   "cell_type": "markdown",
   "id": "6c902253-1e26-4a0b-8e1f-61a30095b0a2",
   "metadata": {},
   "source": [
    "### Task 1: Creating and Manipulating Matrices"
   ]
  },
  {
   "cell_type": "markdown",
   "id": "29a8defe-2ab5-4533-8133-0898ad89f43d",
   "metadata": {},
   "source": [
    "### Q1. Create a normal matrix A with dimensions 3x3, using TensorFlow's random_normal function. Display the values of matrix A."
   ]
  },
  {
   "cell_type": "code",
   "execution_count": 7,
   "id": "96d16ae0-310b-4ea8-ae8d-4248752895cb",
   "metadata": {},
   "outputs": [
    {
     "name": "stdout",
     "output_type": "stream",
     "text": [
      "tf.Tensor(\n",
      "[[-1.1735085   1.7233868   1.4016247 ]\n",
      " [-1.2425873  -0.4366313   1.0251307 ]\n",
      " [-0.23029867  1.4646338   0.80734426]], shape=(3, 3), dtype=float32)\n"
     ]
    }
   ],
   "source": [
    "matrixA=tf.random.normal(shape=(3,3))\n",
    "print(matrixA)"
   ]
  },
  {
   "cell_type": "markdown",
   "id": "f87cdbff-4dba-47e7-b119-402efcc429eb",
   "metadata": {},
   "source": [
    "### Q2. Create a Gaussian matrix B with dimensions 4x4, using TensorFlow's truncated_normal function. Display the values of matrix B."
   ]
  },
  {
   "cell_type": "code",
   "execution_count": 8,
   "id": "4acfc61a-99ca-4b9f-b890-30db3a92eefa",
   "metadata": {},
   "outputs": [
    {
     "data": {
      "text/plain": [
       "<tf.Tensor: shape=(4, 4), dtype=float32, numpy=\n",
       "array([[-0.5403124 , -1.2507607 ,  0.94073445,  1.0686661 ],\n",
       "       [-0.30233297, -0.3267241 , -0.1009445 ,  0.1842022 ],\n",
       "       [ 0.22749132,  0.06035215, -1.294187  ,  1.1331745 ],\n",
       "       [ 0.44121972, -0.3131718 , -1.891981  , -1.7183754 ]],\n",
       "      dtype=float32)>"
      ]
     },
     "execution_count": 8,
     "metadata": {},
     "output_type": "execute_result"
    }
   ],
   "source": [
    "matrixB=tf.random.truncated_normal(shape=(4,4))\n",
    "matrixB"
   ]
  },
  {
   "cell_type": "markdown",
   "id": "1e581fb5-a9b4-432a-9838-7a6e6fd3784f",
   "metadata": {},
   "source": [
    "### Q3. Create a matrix C with dimensions 2x2, where the values are drawn from a normal distribution with a mean of 3 and a standard deviation of 0.5, using TensorFlow's random.normal function. Display the values of matrix."
   ]
  },
  {
   "cell_type": "code",
   "execution_count": 9,
   "id": "07845e59-e20a-4bed-9a6c-2d3eb63e58a4",
   "metadata": {},
   "outputs": [
    {
     "data": {
      "text/plain": [
       "<tf.Tensor: shape=(2, 2), dtype=float32, numpy=\n",
       "array([[3.6916642, 2.635573 ],\n",
       "       [2.4696822, 3.9134262]], dtype=float32)>"
      ]
     },
     "execution_count": 9,
     "metadata": {},
     "output_type": "execute_result"
    }
   ],
   "source": [
    "matrixC=tf.random.normal(shape=(2,2),mean=3,stddev=0.5)\n",
    "matrixC"
   ]
  },
  {
   "cell_type": "markdown",
   "id": "4f386ec6-2889-477d-bc8f-69628cc6adb6",
   "metadata": {},
   "source": [
    "### Q4.Perform matrix addition between matrix A and matrix B, and store the result in matrix D"
   ]
  },
  {
   "cell_type": "markdown",
   "id": "da609d15-5e63-40fc-8142-e8dfca387914",
   "metadata": {},
   "source": [
    "matrixD=matrixA+matrixB"
   ]
  },
  {
   "cell_type": "markdown",
   "id": "91a800e7-34c0-4f92-b5e9-a1779f32edd2",
   "metadata": {},
   "source": [
    "#### >>>Matrix_A and Matrix_B are of different dimension hence Cannot be Added"
   ]
  },
  {
   "cell_type": "markdown",
   "id": "1809721a-e527-45f3-8c76-dbee7f476374",
   "metadata": {},
   "source": [
    "### Q5. Perform matrix multiplication between matrix C and matrix D, and store the result in matrix E."
   ]
  },
  {
   "cell_type": "markdown",
   "id": "a40d9a39-909e-4f56-b653-f4bd398b5993",
   "metadata": {},
   "source": [
    "#### >>>Since Matrix_C is not possible ,hence Matrix_E is also not possible"
   ]
  },
  {
   "cell_type": "markdown",
   "id": "b21112cf-4f0a-423c-98f9-59f6e4b38585",
   "metadata": {},
   "source": [
    "### Task 2: Performing Additional Matrix Operation."
   ]
  },
  {
   "cell_type": "markdown",
   "id": "0ce52d8d-2bd7-47c8-9c09-46a88c227d7b",
   "metadata": {},
   "source": [
    "### Q1. Create a matrix F with dimensions 2x2, initialized with random values using TensorFlow's random_uniform function."
   ]
  },
  {
   "cell_type": "code",
   "execution_count": 11,
   "id": "35e8d010-c750-438e-9803-de07711df356",
   "metadata": {},
   "outputs": [
    {
     "name": "stdout",
     "output_type": "stream",
     "text": [
      "tf.Tensor(\n",
      "[[0.41192222 0.6066272 ]\n",
      " [0.18577075 0.37560213]], shape=(2, 2), dtype=float32)\n"
     ]
    }
   ],
   "source": [
    "matrixF=tf.random.uniform(shape=(2,2))\n",
    "print(matrixF)"
   ]
  },
  {
   "cell_type": "markdown",
   "id": "b043d12c-24aa-4a22-b368-14e0b1adbe4b",
   "metadata": {},
   "source": [
    "### Q2.  Calculate the transpose of matrix F and store the result in matrix G."
   ]
  },
  {
   "cell_type": "code",
   "execution_count": 13,
   "id": "2b4d5f30-b79a-499f-bd03-2f7afe10c2fc",
   "metadata": {},
   "outputs": [
    {
     "data": {
      "text/plain": [
       "<tf.Tensor: shape=(2, 2), dtype=float32, numpy=\n",
       "array([[0.41192222, 0.18577075],\n",
       "       [0.6066272 , 0.37560213]], dtype=float32)>"
      ]
     },
     "execution_count": 13,
     "metadata": {},
     "output_type": "execute_result"
    }
   ],
   "source": [
    "matrixG=tf.transpose(matrixF)\n",
    "matrixG"
   ]
  },
  {
   "cell_type": "markdown",
   "id": "df1bbd09-f56c-4746-984e-897155ace372",
   "metadata": {},
   "source": [
    "### Q3.Calculate the element-wise exponential of matrix F and store the result in matrix H."
   ]
  },
  {
   "cell_type": "code",
   "execution_count": 14,
   "id": "5a1b2518-bc4b-4954-88dc-148e87f2ab58",
   "metadata": {},
   "outputs": [
    {
     "data": {
      "text/plain": [
       "<tf.Tensor: shape=(2, 2), dtype=float32, numpy=\n",
       "array([[1.509717 , 1.8342345],\n",
       "       [1.2041461, 1.4558678]], dtype=float32)>"
      ]
     },
     "execution_count": 14,
     "metadata": {},
     "output_type": "execute_result"
    }
   ],
   "source": [
    "matrixH=tf.exp(matrixF)\n",
    "matrixH"
   ]
  },
  {
   "cell_type": "markdown",
   "id": "47b46f12-8c2b-4a98-b9c0-9b2269e3b0d0",
   "metadata": {},
   "source": [
    "### Q4. Create a matrix I by concatenating matrix F and matrix G horizontally."
   ]
  },
  {
   "cell_type": "code",
   "execution_count": 15,
   "id": "78225b61-41b7-4972-8c93-7d226088d76d",
   "metadata": {},
   "outputs": [
    {
     "name": "stdout",
     "output_type": "stream",
     "text": [
      "Matrix I (concatenation of F and G horizontally):\n",
      "tf.Tensor(\n",
      "[[0.41192222 0.6066272  0.41192222 0.18577075]\n",
      " [0.18577075 0.37560213 0.6066272  0.37560213]], shape=(2, 4), dtype=float32)\n"
     ]
    }
   ],
   "source": [
    "matrixI=tf.concat((matrixF,matrixG), axis=1)\n",
    "print(\"Matrix I (concatenation of F and G horizontally):\")\n",
    "print(matrixI)"
   ]
  },
  {
   "cell_type": "markdown",
   "id": "adc7da2f-4377-410c-b586-aa3d05da5ae8",
   "metadata": {},
   "source": [
    "### Q5. Create a matrix J by concatenating matrix F and matrix H vertically."
   ]
  },
  {
   "cell_type": "code",
   "execution_count": 16,
   "id": "74f7cc28-0a4e-4fb3-97a8-9c52cebe4fd5",
   "metadata": {},
   "outputs": [
    {
     "name": "stdout",
     "output_type": "stream",
     "text": [
      "Matrix J (concatenation of F and H vertically):\n",
      "tf.Tensor(\n",
      "[[0.41192222 0.6066272 ]\n",
      " [0.18577075 0.37560213]\n",
      " [0.41192222 0.18577075]\n",
      " [0.6066272  0.37560213]], shape=(4, 2), dtype=float32)\n"
     ]
    }
   ],
   "source": [
    "matrixJ=tf.concat((matrixF,matrixG), axis=0)\n",
    "print(\"Matrix J (concatenation of F and H vertically):\")\n",
    "print(matrixJ)"
   ]
  },
  {
   "cell_type": "code",
   "execution_count": null,
   "id": "c4ddb78e-6ee1-4042-9ac4-32a79636e603",
   "metadata": {},
   "outputs": [],
   "source": []
  }
 ],
 "metadata": {
  "kernelspec": {
   "display_name": "Python 3 (ipykernel)",
   "language": "python",
   "name": "python3"
  },
  "language_info": {
   "codemirror_mode": {
    "name": "ipython",
    "version": 3
   },
   "file_extension": ".py",
   "mimetype": "text/x-python",
   "name": "python",
   "nbconvert_exporter": "python",
   "pygments_lexer": "ipython3",
   "version": "3.10.8"
  }
 },
 "nbformat": 4,
 "nbformat_minor": 5
}
