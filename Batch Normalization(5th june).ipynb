{
 "cells": [
  {
   "cell_type": "markdown",
   "id": "8113d0c9-6889-45af-ae77-2cc71115ab28",
   "metadata": {},
   "source": [
    "## Q1. Theory and Concepts:\n",
    "\n",
    "### 1. Explain the concept of batch normalization in the context of Artificial Neural Networks.\n",
    "\n",
    "Batch normalization is a technique used in Artificial Neural Networks (ANNs) to improve the training and performance of deep learning models. It aims to address the problem of internal covariate shift, which refers to the change in the distribution of network activations as the parameters of the previous layers change during training. This shift can slow down the learning process and make it difficult for the network to converge.\n",
    "Batch normalization normalizes the input to each layer by subtracting the batch mean and dividing by the batch standard deviation. This normalization step ensures that the inputs to each layer have zero mean and unit variance. By doing so, it helps in reducing the internal covariate shift and makes the training process more stable.\n",
    "\n",
    "### 2. Describe the benefits of using batch normalization during training.\n",
    "\n",
    "The benefits of using batch normalization during training are as follows:\n",
    "\n",
    "- a. Improved convergence: Batch normalization reduces the internal covariate shift, which helps in stabilizing the training process. It enables the use of higher learning rates and accelerates the convergence of the network. This can lead to faster training and reduced training time.\n",
    "\n",
    "- b. Regularization effect: Batch normalization acts as a form of regularization by adding a small amount of noise to the network activations. This noise helps in reducing overfitting and improves the generalization ability of the model.\n",
    "\n",
    "- c. Reduces dependency on initialization: Batch normalization reduces the dependence of the network on the choice of initial parameter values. It allows the network to converge and perform well even with suboptimal initialization, making the training process more robust.\n",
    "\n",
    "- d. Increased network stability: Batch normalization reduces the impact of small changes in the input distribution on the network's behavior. This stability makes the network less sensitive to changes in hyperparameters or the order of training examples in a mini-batch.\n",
    "\n",
    "- e. Enables the use of deeper networks: Batch normalization helps in training deeper neural networks. It mitigates the vanishing/exploding gradient problem by keeping the activations within a reasonable range. This allows the gradients to flow more effectively through the network, enabling the training of deeper architectures.\n",
    "\n",
    "### 3. Discuss the working principle of batch normalization, including the normalization step and the learnable parameters.\n",
    "\n",
    "The working principle of batch normalization involves two main steps: normalization and learnable parameters.\n",
    "\n",
    "- a. Normalization step: In the normalization step, batch normalization normalizes the inputs to each layer by subtracting the mean and dividing by the standard deviation of the batch. For a given layer's activation values, the mean and standard deviation are computed across the mini-batch during training. This normalization step ensures that the inputs have zero mean and unit variance, which helps in stabilizing the training process.\n",
    "\n",
    "- b. Learnable parameters: Batch normalization introduces two learnable parameters per feature dimension: a scale parameter (gamma) and a shift parameter (beta). These parameters are applied after the normalization step. The scale parameter allows the network to learn the optimal scale of the normalized activations, while the shift parameter allows it to learn the optimal shift. By learning these parameters, the network can adapt the normalized activations to the specific requirements of the task.\n",
    "\n",
    "During training, the learnable parameters are updated using backpropagation and gradient descent, just like other parameters in the network. During inference or testing, the batch statistics are typically replaced with running averages computed during training to normalize the inputs using the learned parameters.\n"
   ]
  },
  {
   "cell_type": "markdown",
   "id": "2123620f-2f10-462e-9645-c259e353a73c",
   "metadata": {},
   "source": [
    "## Q2. Impementation"
   ]
  },
  {
   "cell_type": "markdown",
   "id": "0ae6813e-5e3f-4c0c-8aa0-e44c539fb902",
   "metadata": {},
   "source": [
    "- Choose a dataset of your choice (e.g., MNIST, CIAR-0) and preprocess it.\n",
    "\n",
    "- Implement a simple feedforward neural network using any deep learning framework/library (e.g.,Tensorflow, PyTorch).\n",
    "- Train the neural network on the chosen dataset without using batch normalization.\n",
    "- Implement batch normalization layers in the neural network and train the model again.\n",
    "- Compare the training and validation performance (e.g., accuracy, loss) between the models with and without batch normalization.\n",
    "- Discuss the impact of batch normalization on the training process and the performance of the neural network."
   ]
  },
  {
   "cell_type": "markdown",
   "id": "e843c97b-9763-449f-855e-5c2beb727639",
   "metadata": {},
   "source": [
    "- Choose a dataset of your choice (e.g., MNIST, CIAR-0) and preprocess it.\n",
    "\n",
    "- Implement a simple feedforward neural network using any deep learning framework/library (e.g.,Tensorflow, PyTorch).\n",
    "- Train the neural network on the chosen dataset without using batch normalization.\n",
    "- Implement batch normalization layers in the neural network and train the model again.\n",
    "- Compare the training and validation performance (e.g., accuracy, loss) between the models with and without batch normalization.\n",
    "- Discuss the impact of batch normalization on the training process and the performance of the neural network."
   ]
  },
  {
   "cell_type": "code",
   "execution_count": 1,
   "id": "5cb11970-b4dd-4b9c-84db-ef3bc07adb8a",
   "metadata": {},
   "outputs": [
    {
     "name": "stderr",
     "output_type": "stream",
     "text": [
      "2023-07-25 03:52:09.592641: I tensorflow/tsl/cuda/cudart_stub.cc:28] Could not find cuda drivers on your machine, GPU will not be used.\n",
      "2023-07-25 03:52:09.668270: I tensorflow/tsl/cuda/cudart_stub.cc:28] Could not find cuda drivers on your machine, GPU will not be used.\n",
      "2023-07-25 03:52:09.670417: I tensorflow/core/platform/cpu_feature_guard.cc:182] This TensorFlow binary is optimized to use available CPU instructions in performance-critical operations.\n",
      "To enable the following instructions: AVX2 FMA, in other operations, rebuild TensorFlow with the appropriate compiler flags.\n",
      "2023-07-25 03:52:10.960649: W tensorflow/compiler/tf2tensorrt/utils/py_utils.cc:38] TF-TRT Warning: Could not find TensorRT\n"
     ]
    }
   ],
   "source": [
    "###  let's consider the MNIST dataset, which consists of grayscale images of handwritten digits (0-9)\n",
    "\n",
    "import tensorflow as tf\n",
    "from tensorflow.keras.datasets import mnist\n",
    "from tensorflow.keras.utils import to_categorical"
   ]
  },
  {
   "cell_type": "code",
   "execution_count": 2,
   "id": "eea955e7-3a3e-4106-beb9-4eed96cb4a29",
   "metadata": {},
   "outputs": [],
   "source": [
    "## load dataset\n",
    "\n",
    "(x_train,y_train),(x_test,y_test)=mnist.load_data()"
   ]
  },
  {
   "cell_type": "code",
   "execution_count": 3,
   "id": "4bc37492-881c-4446-9abd-60d366d82457",
   "metadata": {},
   "outputs": [
    {
     "data": {
      "text/plain": [
       "array([[[0, 0, 0, ..., 0, 0, 0],\n",
       "        [0, 0, 0, ..., 0, 0, 0],\n",
       "        [0, 0, 0, ..., 0, 0, 0],\n",
       "        ...,\n",
       "        [0, 0, 0, ..., 0, 0, 0],\n",
       "        [0, 0, 0, ..., 0, 0, 0],\n",
       "        [0, 0, 0, ..., 0, 0, 0]],\n",
       "\n",
       "       [[0, 0, 0, ..., 0, 0, 0],\n",
       "        [0, 0, 0, ..., 0, 0, 0],\n",
       "        [0, 0, 0, ..., 0, 0, 0],\n",
       "        ...,\n",
       "        [0, 0, 0, ..., 0, 0, 0],\n",
       "        [0, 0, 0, ..., 0, 0, 0],\n",
       "        [0, 0, 0, ..., 0, 0, 0]],\n",
       "\n",
       "       [[0, 0, 0, ..., 0, 0, 0],\n",
       "        [0, 0, 0, ..., 0, 0, 0],\n",
       "        [0, 0, 0, ..., 0, 0, 0],\n",
       "        ...,\n",
       "        [0, 0, 0, ..., 0, 0, 0],\n",
       "        [0, 0, 0, ..., 0, 0, 0],\n",
       "        [0, 0, 0, ..., 0, 0, 0]],\n",
       "\n",
       "       ...,\n",
       "\n",
       "       [[0, 0, 0, ..., 0, 0, 0],\n",
       "        [0, 0, 0, ..., 0, 0, 0],\n",
       "        [0, 0, 0, ..., 0, 0, 0],\n",
       "        ...,\n",
       "        [0, 0, 0, ..., 0, 0, 0],\n",
       "        [0, 0, 0, ..., 0, 0, 0],\n",
       "        [0, 0, 0, ..., 0, 0, 0]],\n",
       "\n",
       "       [[0, 0, 0, ..., 0, 0, 0],\n",
       "        [0, 0, 0, ..., 0, 0, 0],\n",
       "        [0, 0, 0, ..., 0, 0, 0],\n",
       "        ...,\n",
       "        [0, 0, 0, ..., 0, 0, 0],\n",
       "        [0, 0, 0, ..., 0, 0, 0],\n",
       "        [0, 0, 0, ..., 0, 0, 0]],\n",
       "\n",
       "       [[0, 0, 0, ..., 0, 0, 0],\n",
       "        [0, 0, 0, ..., 0, 0, 0],\n",
       "        [0, 0, 0, ..., 0, 0, 0],\n",
       "        ...,\n",
       "        [0, 0, 0, ..., 0, 0, 0],\n",
       "        [0, 0, 0, ..., 0, 0, 0],\n",
       "        [0, 0, 0, ..., 0, 0, 0]]], dtype=uint8)"
      ]
     },
     "execution_count": 3,
     "metadata": {},
     "output_type": "execute_result"
    }
   ],
   "source": [
    "x_train"
   ]
  },
  {
   "cell_type": "code",
   "execution_count": 4,
   "id": "a086e270-fd11-462f-ab2e-2c6dce9ea3fa",
   "metadata": {},
   "outputs": [
    {
     "data": {
      "text/plain": [
       "array([[[0, 0, 0, ..., 0, 0, 0],\n",
       "        [0, 0, 0, ..., 0, 0, 0],\n",
       "        [0, 0, 0, ..., 0, 0, 0],\n",
       "        ...,\n",
       "        [0, 0, 0, ..., 0, 0, 0],\n",
       "        [0, 0, 0, ..., 0, 0, 0],\n",
       "        [0, 0, 0, ..., 0, 0, 0]],\n",
       "\n",
       "       [[0, 0, 0, ..., 0, 0, 0],\n",
       "        [0, 0, 0, ..., 0, 0, 0],\n",
       "        [0, 0, 0, ..., 0, 0, 0],\n",
       "        ...,\n",
       "        [0, 0, 0, ..., 0, 0, 0],\n",
       "        [0, 0, 0, ..., 0, 0, 0],\n",
       "        [0, 0, 0, ..., 0, 0, 0]],\n",
       "\n",
       "       [[0, 0, 0, ..., 0, 0, 0],\n",
       "        [0, 0, 0, ..., 0, 0, 0],\n",
       "        [0, 0, 0, ..., 0, 0, 0],\n",
       "        ...,\n",
       "        [0, 0, 0, ..., 0, 0, 0],\n",
       "        [0, 0, 0, ..., 0, 0, 0],\n",
       "        [0, 0, 0, ..., 0, 0, 0]],\n",
       "\n",
       "       ...,\n",
       "\n",
       "       [[0, 0, 0, ..., 0, 0, 0],\n",
       "        [0, 0, 0, ..., 0, 0, 0],\n",
       "        [0, 0, 0, ..., 0, 0, 0],\n",
       "        ...,\n",
       "        [0, 0, 0, ..., 0, 0, 0],\n",
       "        [0, 0, 0, ..., 0, 0, 0],\n",
       "        [0, 0, 0, ..., 0, 0, 0]],\n",
       "\n",
       "       [[0, 0, 0, ..., 0, 0, 0],\n",
       "        [0, 0, 0, ..., 0, 0, 0],\n",
       "        [0, 0, 0, ..., 0, 0, 0],\n",
       "        ...,\n",
       "        [0, 0, 0, ..., 0, 0, 0],\n",
       "        [0, 0, 0, ..., 0, 0, 0],\n",
       "        [0, 0, 0, ..., 0, 0, 0]],\n",
       "\n",
       "       [[0, 0, 0, ..., 0, 0, 0],\n",
       "        [0, 0, 0, ..., 0, 0, 0],\n",
       "        [0, 0, 0, ..., 0, 0, 0],\n",
       "        ...,\n",
       "        [0, 0, 0, ..., 0, 0, 0],\n",
       "        [0, 0, 0, ..., 0, 0, 0],\n",
       "        [0, 0, 0, ..., 0, 0, 0]]], dtype=uint8)"
      ]
     },
     "execution_count": 4,
     "metadata": {},
     "output_type": "execute_result"
    }
   ],
   "source": [
    "x_test"
   ]
  },
  {
   "cell_type": "code",
   "execution_count": 5,
   "id": "a34d7dfb-e710-480c-903f-7275259ced05",
   "metadata": {},
   "outputs": [
    {
     "data": {
      "text/plain": [
       "60000"
      ]
     },
     "execution_count": 5,
     "metadata": {},
     "output_type": "execute_result"
    }
   ],
   "source": [
    "len(x_train)"
   ]
  },
  {
   "cell_type": "code",
   "execution_count": 6,
   "id": "bc68038a-abe2-4146-9689-6cf29f039fcf",
   "metadata": {},
   "outputs": [],
   "source": [
    "# normalize and reshape:\n",
    "\n",
    "x_train=x_train.reshape(-1,784)/255.0\n",
    "x_test=x_test.reshape(-1,784)/255.0"
   ]
  },
  {
   "cell_type": "code",
   "execution_count": 7,
   "id": "e2140add-5747-443f-a497-8df485231dca",
   "metadata": {},
   "outputs": [],
   "source": [
    "# OHE:\n",
    "\n",
    "y_train=to_categorical(y_train)\n",
    "y_test=to_categorical(y_test)"
   ]
  },
  {
   "cell_type": "code",
   "execution_count": 8,
   "id": "854dd579-13b3-42bc-9634-5d2743a18bb0",
   "metadata": {},
   "outputs": [
    {
     "data": {
      "text/plain": [
       "array([[0., 0., 0., ..., 0., 0., 0.],\n",
       "       [1., 0., 0., ..., 0., 0., 0.],\n",
       "       [0., 0., 0., ..., 0., 0., 0.],\n",
       "       ...,\n",
       "       [0., 0., 0., ..., 0., 0., 0.],\n",
       "       [0., 0., 0., ..., 0., 0., 0.],\n",
       "       [0., 0., 0., ..., 0., 1., 0.]], dtype=float32)"
      ]
     },
     "execution_count": 8,
     "metadata": {},
     "output_type": "execute_result"
    }
   ],
   "source": [
    "y_train"
   ]
  },
  {
   "cell_type": "markdown",
   "id": "ab57bfb4-2fbd-4a5e-95f8-9aa7dda3acf5",
   "metadata": {},
   "source": [
    "### we'll implement a simple feedforward neural network without batch normalization "
   ]
  },
  {
   "cell_type": "code",
   "execution_count": 9,
   "id": "2ed0f26e-2f32-4f13-8ccb-e8a730917d1e",
   "metadata": {},
   "outputs": [
    {
     "name": "stdout",
     "output_type": "stream",
     "text": [
      "Epoch 1/20\n",
      "469/469 [==============================] - 3s 5ms/step - loss: 0.3265 - accuracy: 0.9069 - val_loss: 0.1596 - val_accuracy: 0.9516\n",
      "Epoch 2/20\n",
      "469/469 [==============================] - 2s 4ms/step - loss: 0.1311 - accuracy: 0.9612 - val_loss: 0.1106 - val_accuracy: 0.9670\n",
      "Epoch 3/20\n",
      "469/469 [==============================] - 2s 4ms/step - loss: 0.0920 - accuracy: 0.9722 - val_loss: 0.0939 - val_accuracy: 0.9713\n",
      "Epoch 4/20\n",
      "469/469 [==============================] - 2s 4ms/step - loss: 0.0712 - accuracy: 0.9787 - val_loss: 0.0874 - val_accuracy: 0.9734\n",
      "Epoch 5/20\n",
      "469/469 [==============================] - 2s 4ms/step - loss: 0.0563 - accuracy: 0.9830 - val_loss: 0.0800 - val_accuracy: 0.9764\n",
      "Epoch 6/20\n",
      "469/469 [==============================] - 2s 4ms/step - loss: 0.0449 - accuracy: 0.9862 - val_loss: 0.0858 - val_accuracy: 0.9762\n",
      "Epoch 7/20\n",
      "469/469 [==============================] - 2s 4ms/step - loss: 0.0364 - accuracy: 0.9888 - val_loss: 0.0726 - val_accuracy: 0.9766\n",
      "Epoch 8/20\n",
      "469/469 [==============================] - 2s 4ms/step - loss: 0.0313 - accuracy: 0.9901 - val_loss: 0.0804 - val_accuracy: 0.9785\n",
      "Epoch 9/20\n",
      "469/469 [==============================] - 2s 4ms/step - loss: 0.0248 - accuracy: 0.9926 - val_loss: 0.0710 - val_accuracy: 0.9791\n",
      "Epoch 10/20\n",
      "469/469 [==============================] - 2s 4ms/step - loss: 0.0212 - accuracy: 0.9937 - val_loss: 0.0808 - val_accuracy: 0.9755\n",
      "Epoch 11/20\n",
      "469/469 [==============================] - 2s 4ms/step - loss: 0.0191 - accuracy: 0.9942 - val_loss: 0.0937 - val_accuracy: 0.9762\n",
      "Epoch 12/20\n",
      "469/469 [==============================] - 2s 4ms/step - loss: 0.0154 - accuracy: 0.9950 - val_loss: 0.0852 - val_accuracy: 0.9773\n",
      "Epoch 13/20\n",
      "469/469 [==============================] - 2s 4ms/step - loss: 0.0131 - accuracy: 0.9960 - val_loss: 0.0845 - val_accuracy: 0.9791\n",
      "Epoch 14/20\n",
      "469/469 [==============================] - 2s 4ms/step - loss: 0.0104 - accuracy: 0.9972 - val_loss: 0.0836 - val_accuracy: 0.9789\n",
      "Epoch 15/20\n",
      "469/469 [==============================] - 2s 4ms/step - loss: 0.0121 - accuracy: 0.9961 - val_loss: 0.0895 - val_accuracy: 0.9792\n",
      "Epoch 16/20\n",
      "469/469 [==============================] - 2s 4ms/step - loss: 0.0105 - accuracy: 0.9966 - val_loss: 0.0874 - val_accuracy: 0.9795\n",
      "Epoch 17/20\n",
      "469/469 [==============================] - 2s 4ms/step - loss: 0.0098 - accuracy: 0.9970 - val_loss: 0.0964 - val_accuracy: 0.9785\n",
      "Epoch 18/20\n",
      "469/469 [==============================] - 2s 4ms/step - loss: 0.0073 - accuracy: 0.9979 - val_loss: 0.1105 - val_accuracy: 0.9760\n",
      "Epoch 19/20\n",
      "469/469 [==============================] - 2s 4ms/step - loss: 0.0079 - accuracy: 0.9975 - val_loss: 0.1065 - val_accuracy: 0.9769\n",
      "Epoch 20/20\n",
      "469/469 [==============================] - 2s 4ms/step - loss: 0.0063 - accuracy: 0.9981 - val_loss: 0.1018 - val_accuracy: 0.9779\n"
     ]
    },
    {
     "data": {
      "text/plain": [
       "<keras.src.callbacks.History at 0x7fd0f4364970>"
      ]
     },
     "execution_count": 9,
     "metadata": {},
     "output_type": "execute_result"
    }
   ],
   "source": [
    "from tensorflow.keras.models import Sequential\n",
    "from tensorflow.keras.layers import Dense\n",
    "\n",
    "# model without batch normalization:\n",
    "\n",
    "model_no_bn = Sequential([\n",
    "    Dense(128, activation='relu', input_shape=(784,)),\n",
    "    Dense(64, activation='relu'),\n",
    "    Dense(10, activation='softmax')\n",
    "])\n",
    "\n",
    "# Compile the model\n",
    "model_no_bn.compile(optimizer='adam', loss='categorical_crossentropy', metrics=['accuracy'])\n",
    "\n",
    "# Train the model\n",
    "model_no_bn.fit(x_train, y_train, batch_size=128, epochs=20, validation_data=(x_test, y_test))"
   ]
  },
  {
   "cell_type": "code",
   "execution_count": 10,
   "id": "85f645a0-8e0d-40a3-9e7a-8d2b651bc7c7",
   "metadata": {},
   "outputs": [
    {
     "name": "stdout",
     "output_type": "stream",
     "text": [
      "313/313 [==============================] - 0s 1ms/step - loss: 0.1018 - accuracy: 0.9779\n"
     ]
    }
   ],
   "source": [
    "# Evaluate the models on the test set\n",
    "_, acc_no_bn = model_no_bn.evaluate(x_test, y_test)"
   ]
  },
  {
   "cell_type": "code",
   "execution_count": 11,
   "id": "11f18eb9-7698-4235-b9ac-e33dbe0fd889",
   "metadata": {},
   "outputs": [
    {
     "name": "stdout",
     "output_type": "stream",
     "text": [
      "Model without batch normalization - Test Accuracy: 0.9779000282287598\n"
     ]
    }
   ],
   "source": [
    "print(\"Model without batch normalization - Test Accuracy:\", acc_no_bn)\n"
   ]
  },
  {
   "cell_type": "markdown",
   "id": "452bb8a5-fe00-49dd-a4db-ea6f18670e61",
   "metadata": {},
   "source": [
    "### let's implement the same neural network architecture but with batch normalization layers:"
   ]
  },
  {
   "cell_type": "code",
   "execution_count": 13,
   "id": "2cfb946a-8d1a-4a86-a813-6bb8e485e986",
   "metadata": {},
   "outputs": [
    {
     "name": "stdout",
     "output_type": "stream",
     "text": [
      "Epoch 1/20\n",
      "469/469 [==============================] - 4s 6ms/step - loss: 0.2958 - accuracy: 0.9160 - val_loss: 0.1564 - val_accuracy: 0.9550\n",
      "Epoch 2/20\n",
      "469/469 [==============================] - 3s 6ms/step - loss: 0.1382 - accuracy: 0.9614 - val_loss: 0.1198 - val_accuracy: 0.9665\n",
      "Epoch 3/20\n",
      "469/469 [==============================] - 2s 5ms/step - loss: 0.0997 - accuracy: 0.9708 - val_loss: 0.1052 - val_accuracy: 0.9682\n",
      "Epoch 4/20\n",
      "469/469 [==============================] - 3s 5ms/step - loss: 0.0832 - accuracy: 0.9752 - val_loss: 0.0950 - val_accuracy: 0.9722\n",
      "Epoch 5/20\n",
      "469/469 [==============================] - 2s 5ms/step - loss: 0.0710 - accuracy: 0.9784 - val_loss: 0.0913 - val_accuracy: 0.9720\n",
      "Epoch 6/20\n",
      "469/469 [==============================] - 2s 5ms/step - loss: 0.0616 - accuracy: 0.9816 - val_loss: 0.0865 - val_accuracy: 0.9739\n",
      "Epoch 7/20\n",
      "469/469 [==============================] - 2s 5ms/step - loss: 0.0524 - accuracy: 0.9837 - val_loss: 0.0948 - val_accuracy: 0.9710\n",
      "Epoch 8/20\n",
      "469/469 [==============================] - 2s 5ms/step - loss: 0.0479 - accuracy: 0.9851 - val_loss: 0.0875 - val_accuracy: 0.9750\n",
      "Epoch 9/20\n",
      "469/469 [==============================] - 2s 5ms/step - loss: 0.0426 - accuracy: 0.9868 - val_loss: 0.1003 - val_accuracy: 0.9698\n",
      "Epoch 10/20\n",
      "469/469 [==============================] - 2s 5ms/step - loss: 0.0406 - accuracy: 0.9874 - val_loss: 0.0880 - val_accuracy: 0.9719\n",
      "Epoch 11/20\n",
      "469/469 [==============================] - 2s 5ms/step - loss: 0.0367 - accuracy: 0.9885 - val_loss: 0.0883 - val_accuracy: 0.9747\n",
      "Epoch 12/20\n",
      "469/469 [==============================] - 2s 5ms/step - loss: 0.0330 - accuracy: 0.9895 - val_loss: 0.0883 - val_accuracy: 0.9743\n",
      "Epoch 13/20\n",
      "469/469 [==============================] - 2s 5ms/step - loss: 0.0293 - accuracy: 0.9909 - val_loss: 0.0853 - val_accuracy: 0.9754\n",
      "Epoch 14/20\n",
      "469/469 [==============================] - 2s 5ms/step - loss: 0.0270 - accuracy: 0.9916 - val_loss: 0.0922 - val_accuracy: 0.9749\n",
      "Epoch 15/20\n",
      "469/469 [==============================] - 2s 5ms/step - loss: 0.0278 - accuracy: 0.9914 - val_loss: 0.1011 - val_accuracy: 0.9726\n",
      "Epoch 16/20\n",
      "469/469 [==============================] - 2s 5ms/step - loss: 0.0261 - accuracy: 0.9912 - val_loss: 0.1017 - val_accuracy: 0.9726\n",
      "Epoch 17/20\n",
      "469/469 [==============================] - 2s 5ms/step - loss: 0.0223 - accuracy: 0.9927 - val_loss: 0.0984 - val_accuracy: 0.9739\n",
      "Epoch 18/20\n",
      "469/469 [==============================] - 2s 5ms/step - loss: 0.0217 - accuracy: 0.9932 - val_loss: 0.0915 - val_accuracy: 0.9760\n",
      "Epoch 19/20\n",
      "469/469 [==============================] - 2s 5ms/step - loss: 0.0217 - accuracy: 0.9926 - val_loss: 0.0992 - val_accuracy: 0.9737\n",
      "Epoch 20/20\n",
      "469/469 [==============================] - 2s 5ms/step - loss: 0.0209 - accuracy: 0.9934 - val_loss: 0.0905 - val_accuracy: 0.9764\n"
     ]
    },
    {
     "data": {
      "text/plain": [
       "<keras.src.callbacks.History at 0x7fd0b87726b0>"
      ]
     },
     "execution_count": 13,
     "metadata": {},
     "output_type": "execute_result"
    }
   ],
   "source": [
    "from tensorflow.keras.layers import BatchNormalization\n",
    "\n",
    "# Define the model architecture with batch normalization\n",
    "model_bn = Sequential([\n",
    "    Dense(128, input_shape=(784,)),\n",
    "    BatchNormalization(),\n",
    "    Dense(64, activation='relu'),\n",
    "    BatchNormalization(),\n",
    "    Dense(10, activation='softmax')\n",
    "])\n",
    "\n",
    "# Compile the model\n",
    "model_bn.compile(optimizer='adam', loss='categorical_crossentropy', metrics=['accuracy'])\n",
    "\n",
    "# Train the model\n",
    "model_bn.fit(x_train, y_train, batch_size=128, epochs=20, validation_data=(x_test, y_test))\n"
   ]
  },
  {
   "cell_type": "code",
   "execution_count": 14,
   "id": "f427d56f-6320-464f-9f40-8afb6e6d5d3c",
   "metadata": {},
   "outputs": [
    {
     "name": "stdout",
     "output_type": "stream",
     "text": [
      "313/313 [==============================] - 0s 1ms/step - loss: 0.0905 - accuracy: 0.9764\n",
      "Model with batch normalization - Test Accuracy: 0.9764000177383423\n"
     ]
    }
   ],
   "source": [
    "_, acc_bn = model_bn.evaluate(x_test, y_test)\n",
    "print(\"Model with batch normalization - Test Accuracy:\", acc_bn)"
   ]
  },
  {
   "cell_type": "markdown",
   "id": "af0d5713-c48e-4df2-830b-50ea8ede692a",
   "metadata": {},
   "source": [
    "_Benefits of batch normalization__\n",
    "- Training Stability\n",
    "- Generalization\n",
    "- Faster Convergence\n",
    "- Reduced Dependency on Initialization\n",
    "- Improved Accuracy"
   ]
  },
  {
   "cell_type": "markdown",
   "id": "c482eede-130b-4a0f-84ad-17e7e3542909",
   "metadata": {},
   "source": [
    "### Q3. Experimentation and analysis\n",
    "\n",
    "\n",
    "- Experiment with different batch sizes and observe the effect on the training dynamics and model performancer"
   ]
  },
  {
   "cell_type": "code",
   "execution_count": 15,
   "id": "f65a865d-0139-4b83-8f0f-ec6f28ab6681",
   "metadata": {},
   "outputs": [
    {
     "name": "stdout",
     "output_type": "stream",
     "text": [
      "Epoch 1/10\n",
      "1875/1875 [==============================] - 8s 4ms/step - loss: 0.2753 - accuracy: 0.9183 - val_loss: 0.1429 - val_accuracy: 0.9562\n",
      "Epoch 2/10\n",
      "1875/1875 [==============================] - 7s 4ms/step - loss: 0.1488 - accuracy: 0.9563 - val_loss: 0.1114 - val_accuracy: 0.9661\n",
      "Epoch 3/10\n",
      "1875/1875 [==============================] - 7s 4ms/step - loss: 0.1212 - accuracy: 0.9623 - val_loss: 0.1074 - val_accuracy: 0.9682\n",
      "Epoch 4/10\n",
      "1875/1875 [==============================] - 7s 4ms/step - loss: 0.1049 - accuracy: 0.9670 - val_loss: 0.0941 - val_accuracy: 0.9726\n",
      "Epoch 5/10\n",
      "1875/1875 [==============================] - 7s 3ms/step - loss: 0.0949 - accuracy: 0.9694 - val_loss: 0.0894 - val_accuracy: 0.9731\n",
      "Epoch 6/10\n",
      "1875/1875 [==============================] - 6s 3ms/step - loss: 0.0878 - accuracy: 0.9718 - val_loss: 0.0912 - val_accuracy: 0.9736\n",
      "Epoch 7/10\n",
      "1875/1875 [==============================] - 7s 3ms/step - loss: 0.0813 - accuracy: 0.9736 - val_loss: 0.0901 - val_accuracy: 0.9748\n",
      "Epoch 8/10\n",
      "1875/1875 [==============================] - 7s 4ms/step - loss: 0.0751 - accuracy: 0.9754 - val_loss: 0.0822 - val_accuracy: 0.9754\n",
      "Epoch 9/10\n",
      "1875/1875 [==============================] - 7s 4ms/step - loss: 0.0749 - accuracy: 0.9759 - val_loss: 0.0868 - val_accuracy: 0.9743\n",
      "Epoch 10/10\n",
      "1875/1875 [==============================] - 7s 4ms/step - loss: 0.0678 - accuracy: 0.9777 - val_loss: 0.0836 - val_accuracy: 0.9757\n",
      "313/313 [==============================] - 0s 1ms/step - loss: 0.0836 - accuracy: 0.9757\n",
      "Batch Size: 32\n",
      "Test Accuracy: 0.9757000207901001\n",
      "------------------------------------\n",
      "Epoch 1/10\n",
      "938/938 [==============================] - 6s 4ms/step - loss: 0.2647 - accuracy: 0.9238 - val_loss: 0.1386 - val_accuracy: 0.9607\n",
      "Epoch 2/10\n",
      "938/938 [==============================] - 4s 4ms/step - loss: 0.1338 - accuracy: 0.9610 - val_loss: 0.1087 - val_accuracy: 0.9681\n",
      "Epoch 3/10\n",
      "938/938 [==============================] - 4s 4ms/step - loss: 0.1029 - accuracy: 0.9690 - val_loss: 0.0964 - val_accuracy: 0.9714\n",
      "Epoch 4/10\n",
      "938/938 [==============================] - 4s 4ms/step - loss: 0.0868 - accuracy: 0.9732 - val_loss: 0.0965 - val_accuracy: 0.9697\n",
      "Epoch 5/10\n",
      "938/938 [==============================] - 4s 4ms/step - loss: 0.0772 - accuracy: 0.9757 - val_loss: 0.0841 - val_accuracy: 0.9729\n",
      "Epoch 6/10\n",
      "938/938 [==============================] - 4s 4ms/step - loss: 0.0673 - accuracy: 0.9786 - val_loss: 0.0857 - val_accuracy: 0.9737\n",
      "Epoch 7/10\n",
      "938/938 [==============================] - 4s 4ms/step - loss: 0.0595 - accuracy: 0.9808 - val_loss: 0.0891 - val_accuracy: 0.9733\n",
      "Epoch 8/10\n",
      "938/938 [==============================] - 4s 4ms/step - loss: 0.0574 - accuracy: 0.9814 - val_loss: 0.0859 - val_accuracy: 0.9739\n",
      "Epoch 9/10\n",
      "938/938 [==============================] - 4s 4ms/step - loss: 0.0517 - accuracy: 0.9829 - val_loss: 0.0808 - val_accuracy: 0.9757\n",
      "Epoch 10/10\n",
      "938/938 [==============================] - 4s 4ms/step - loss: 0.0481 - accuracy: 0.9843 - val_loss: 0.0884 - val_accuracy: 0.9729\n",
      "313/313 [==============================] - 0s 1ms/step - loss: 0.0884 - accuracy: 0.9729\n",
      "Batch Size: 64\n",
      "Test Accuracy: 0.9728999733924866\n",
      "------------------------------------\n",
      "Epoch 1/10\n",
      "469/469 [==============================] - 4s 5ms/step - loss: 0.2926 - accuracy: 0.9167 - val_loss: 0.1629 - val_accuracy: 0.9513\n",
      "Epoch 2/10\n",
      "469/469 [==============================] - 2s 5ms/step - loss: 0.1417 - accuracy: 0.9598 - val_loss: 0.1198 - val_accuracy: 0.9667\n",
      "Epoch 3/10\n",
      "469/469 [==============================] - 2s 5ms/step - loss: 0.1060 - accuracy: 0.9696 - val_loss: 0.1054 - val_accuracy: 0.9668\n",
      "Epoch 4/10\n",
      "469/469 [==============================] - 2s 5ms/step - loss: 0.0854 - accuracy: 0.9752 - val_loss: 0.0964 - val_accuracy: 0.9703\n",
      "Epoch 5/10\n",
      "469/469 [==============================] - 2s 5ms/step - loss: 0.0712 - accuracy: 0.9788 - val_loss: 0.0930 - val_accuracy: 0.9703\n",
      "Epoch 6/10\n",
      "469/469 [==============================] - 2s 5ms/step - loss: 0.0632 - accuracy: 0.9812 - val_loss: 0.0906 - val_accuracy: 0.9715\n",
      "Epoch 7/10\n",
      "469/469 [==============================] - 2s 5ms/step - loss: 0.0541 - accuracy: 0.9833 - val_loss: 0.0915 - val_accuracy: 0.9723\n",
      "Epoch 8/10\n",
      "469/469 [==============================] - 2s 5ms/step - loss: 0.0497 - accuracy: 0.9844 - val_loss: 0.0858 - val_accuracy: 0.9742\n",
      "Epoch 9/10\n",
      "469/469 [==============================] - 2s 5ms/step - loss: 0.0434 - accuracy: 0.9869 - val_loss: 0.0865 - val_accuracy: 0.9739\n",
      "Epoch 10/10\n",
      "469/469 [==============================] - 2s 5ms/step - loss: 0.0407 - accuracy: 0.9870 - val_loss: 0.0912 - val_accuracy: 0.9737\n",
      "313/313 [==============================] - 0s 1ms/step - loss: 0.0912 - accuracy: 0.9737\n",
      "Batch Size: 128\n",
      "Test Accuracy: 0.9736999869346619\n",
      "------------------------------------\n",
      "Epoch 1/10\n",
      "235/235 [==============================] - 3s 7ms/step - loss: 0.3472 - accuracy: 0.9029 - val_loss: 0.2134 - val_accuracy: 0.9480\n",
      "Epoch 2/10\n",
      "235/235 [==============================] - 2s 7ms/step - loss: 0.1605 - accuracy: 0.9553 - val_loss: 0.1418 - val_accuracy: 0.9592\n",
      "Epoch 3/10\n",
      "235/235 [==============================] - 1s 6ms/step - loss: 0.1175 - accuracy: 0.9674 - val_loss: 0.1243 - val_accuracy: 0.9636\n",
      "Epoch 4/10\n",
      "235/235 [==============================] - 1s 6ms/step - loss: 0.0908 - accuracy: 0.9753 - val_loss: 0.1073 - val_accuracy: 0.9675\n",
      "Epoch 5/10\n",
      "235/235 [==============================] - 1s 6ms/step - loss: 0.0749 - accuracy: 0.9793 - val_loss: 0.0985 - val_accuracy: 0.9709\n",
      "Epoch 6/10\n",
      "235/235 [==============================] - 1s 6ms/step - loss: 0.0636 - accuracy: 0.9822 - val_loss: 0.0994 - val_accuracy: 0.9700\n",
      "Epoch 7/10\n",
      "235/235 [==============================] - 1s 6ms/step - loss: 0.0550 - accuracy: 0.9848 - val_loss: 0.0950 - val_accuracy: 0.9718\n",
      "Epoch 8/10\n",
      "235/235 [==============================] - 1s 6ms/step - loss: 0.0477 - accuracy: 0.9865 - val_loss: 0.0964 - val_accuracy: 0.9716\n",
      "Epoch 9/10\n",
      "235/235 [==============================] - 1s 6ms/step - loss: 0.0423 - accuracy: 0.9880 - val_loss: 0.0940 - val_accuracy: 0.9722\n",
      "Epoch 10/10\n",
      "235/235 [==============================] - 1s 6ms/step - loss: 0.0371 - accuracy: 0.9894 - val_loss: 0.0918 - val_accuracy: 0.9727\n",
      "313/313 [==============================] - 0s 1ms/step - loss: 0.0918 - accuracy: 0.9727\n",
      "Batch Size: 256\n",
      "Test Accuracy: 0.9726999998092651\n",
      "------------------------------------\n"
     ]
    }
   ],
   "source": [
    "import tensorflow as tf\n",
    "from tensorflow.keras.datasets import mnist\n",
    "from tensorflow.keras.models import Sequential\n",
    "from tensorflow.keras.layers import Dense, BatchNormalization\n",
    "from tensorflow.keras.utils import to_categorical\n",
    "\n",
    "# Load the MNIST dataset\n",
    "(x_train, y_train), (x_test, y_test) = mnist.load_data()\n",
    "\n",
    "# Preprocess the data\n",
    "x_train = x_train.reshape(-1, 784) / 255.0\n",
    "x_test = x_test.reshape(-1, 784) / 255.0\n",
    "y_train = to_categorical(y_train)\n",
    "y_test = to_categorical(y_test)\n",
    "\n",
    "# Define a list of different batch sizes to experiment with\n",
    "batch_sizes = [32, 64, 128, 256]\n",
    "\n",
    "for batch_size in batch_sizes:\n",
    "    # Create a new instance of the model to ensure a fresh start for each experiment\n",
    "    model_bn = Sequential([\n",
    "        Dense(128, input_shape=(784,)),\n",
    "        BatchNormalization(),\n",
    "        Dense(64, activation='relu'),\n",
    "        BatchNormalization(),\n",
    "        Dense(10, activation='softmax')\n",
    "    ])\n",
    "    \n",
    "    # Compile the model\n",
    "    model_bn.compile(optimizer='adam', loss='categorical_crossentropy', metrics=['accuracy'])\n",
    "    \n",
    "    # Train the model with the current batch size\n",
    "    model_bn.fit(x_train, y_train, batch_size=batch_size, epochs=10, validation_data=(x_test, y_test))\n",
    "    \n",
    "    # Evaluate the model on the test set\n",
    "    _, test_accuracy = model_bn.evaluate(x_test, y_test)\n",
    "    \n",
    "    print(\"Batch Size:\", batch_size)\n",
    "    print(\"Test Accuracy:\", test_accuracy)\n",
    "    print(\"------------------------------------\")"
   ]
  },
  {
   "cell_type": "markdown",
   "id": "7d6c55dd-26df-496b-a1b8-db51327c2184",
   "metadata": {},
   "source": [
    "### Discuss the advantages and potential limitations of batch normalization in improving the training of neural networks."
   ]
  },
  {
   "cell_type": "markdown",
   "id": "096ba322-9d93-4471-aee8-e7d12d6cb8a7",
   "metadata": {},
   "source": [
    "**Advantages of Batch Normalization:**\n",
    "\n",
    "- Improved Training Dynamics: Batch normalization helps in stabilizing the training process by reducing internal covariate shift. This can lead to faster convergence, smoother loss curves, and improved training dynamics. With proper batch normalization, the network can learn more efficiently and effectively.\n",
    "\n",
    "- Regularization Effect: Batch normalization adds noise to the network activations during training, acting as a form of regularization. This can reduce overfitting and improve generalization performance, especially when training data is limited. By reducing the reliance on individual training examples, batch normalization encourages the network to learn more robust and generalizable representations.\n",
    "\n",
    "- Higher Learning Rates: Batch normalization allows for the use of higher learning rates without compromising training stability. This accelerates the convergence of the network and reduces the training time. The ability to use larger learning rates can be particularly beneficial in deep neural networks.\n",
    "\n",
    "- Reduction in Weight Initialization Sensitivity: Batch normalization reduces the dependence on the choice of initial parameter values. It helps in mitigating issues such as vanishing or exploding gradients, making the training process more robust. Batch normalization can help deep networks converge even with suboptimal weight initialization."
   ]
  },
  {
   "cell_type": "markdown",
   "id": "8ceb68b9-b3ad-45cf-8081-e36b8e91d874",
   "metadata": {},
   "source": [
    "__Potential Limitations of Batch Normalization:__\n",
    "\n",
    "- Batch Size Sensitivity: Batch normalization performance can vary with different batch sizes. Small batch sizes may lead to noisy estimates of the batch statistics, reducing the effectiveness of normalization. On the other hand, very large batch sizes may reduce the regularization effect and limit the network's ability to generalize. It is important to choose an appropriate batch size based on the specific dataset and network architecture.\n",
    "\n",
    "- Inference Dependency: During inference, batch normalization requires access to batch statistics (mean and variance) calculated during training. This introduces a dependency on the batch size and ordering of examples during inference. In certain scenarios, such as online or real-time prediction, this dependency may not be feasible or practical.\n",
    "\n",
    "- Computational Overhead: Batch normalization adds extra computations during both forward and backward passes, which can increase the computational overhead. This can be a concern in scenarios where efficiency is crucial, such as resource-constrained environments or when training large-scale models.\n",
    "\n",
    "- Loss of Individual Sample Information: Batch normalization focuses on the statistics of the mini-batch, which can lead to a loss of information about individual samples. In some cases, this loss of individuality may not be desirable, especially when training on small datasets with highly varied samples."
   ]
  },
  {
   "cell_type": "code",
   "execution_count": null,
   "id": "fad1d961-5810-4891-9a3a-d16a6b9ded50",
   "metadata": {},
   "outputs": [],
   "source": []
  }
 ],
 "metadata": {
  "kernelspec": {
   "display_name": "Python 3 (ipykernel)",
   "language": "python",
   "name": "python3"
  },
  "language_info": {
   "codemirror_mode": {
    "name": "ipython",
    "version": 3
   },
   "file_extension": ".py",
   "mimetype": "text/x-python",
   "name": "python",
   "nbconvert_exporter": "python",
   "pygments_lexer": "ipython3",
   "version": "3.10.8"
  }
 },
 "nbformat": 4,
 "nbformat_minor": 5
}
