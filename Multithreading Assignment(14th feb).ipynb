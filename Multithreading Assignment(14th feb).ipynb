{
 "cells": [
  {
   "cell_type": "code",
   "execution_count": null,
   "id": "8253507b-1da2-4629-b42c-842ebc215117",
   "metadata": {},
   "outputs": [],
   "source": [
    "1.What is multithreading in python? Why is it used ? Name the module used to handle threads in python.\n",
    "Ans -\n",
    "      Mechanism that allows mutiple threads of execution to run concurrently within a single process.A thread is a separate flow of execution within a program, and muiltithreading allows for parallelism and concurrency, making it possible to perform multiple tasks simultaneously.\n",
    "    \n",
    "    1.Improving performance by running multiple CPU-bound or I/O-bound tasks concurrently.\n",
    "    2.Creating responsive and interactive user interfaces that can handle multiple input and output events.\n",
    "    3.Managing long-running operations that would otherwise block the main program thread,such as network communication,file I/O,or database access.\n",
    "    \n",
    "    In python,the module used to handle threads is called\"threading\".This module provides a way to create and manage threads,synchronize their operations,and communicate between them.The \"threading\"module is part of the python standard library and comes pre-installed with any python installation."
   ]
  },
  {
   "cell_type": "code",
   "execution_count": null,
   "id": "2181f51e-8ab1-45db-836f-57083a69e463",
   "metadata": {},
   "outputs": [],
   "source": [
    "2.Why threading module used? Write the use of the following functions:\n",
    "    1.activeCount()\n",
    "    2.currentThread()\n",
    "    3.enumerate()\n",
    "    \n",
    "    Ans-\n",
    "         The threading module is used in python to crate and manage threads in a multi-threaded application.It provides a way to create new threads,synchronization their operations,and communication between them.\n",
    "        \n",
    "        1.activeCount()-This function returns the number of active thread objects in the current thread's thread control block.It can be useful for debugging purposes,or to ensure that all threads have completed before exiting a program.\n",
    "        2.currentThread()-This function returns a reference to the current thread object which can be useful for identifying the current thread's name,thread ID,or other attributes.\n",
    "        3.enumerate()-This function returns a list of all active thread objects in the current process.It can be used to get information about all the threads currently running in a program,such as their names,IDs,orother attributes."
   ]
  },
  {
   "cell_type": "code",
   "execution_count": null,
   "id": "4d146294-c243-43c8-8b59-ee19847e7d52",
   "metadata": {},
   "outputs": [],
   "source": [
    "3.Explain the following functions:\n",
    "    1.run()\n",
    "    2.start()\n",
    "    3.join()\n",
    "    4.isAlive()\n",
    "Ans- \n",
    "\n",
    "1.run()-This method is called when a thread is started using the 'start()'method.It contains this code that will be executed in the thread and can be overriden in a subclass to implement custom bahaviour.It is important to note that you should not call this method directly,but instead use the'start()'method to start the thread.\n",
    "\n",
    "2.start()-This method starts the executionof the thread.when this method is called,a new thread is crated and the'run()'method of the thread is executed in parallel with the main thread.It is important to note that you can only call the 'start()' method once on a thread object.\n",
    "\n",
    "3.join()-This method blocks the calling thread until the thread on which itis called has completed its execution.It can be used to synchronization the execution of multiple threasa in a program and to ensure that all threads have completed before the program teminates.The 'join(0' method can also accept an optional timeout parameter,which specifies the maximum amount of the time to wait for the thread to complete before continuing with the execution of the calling thread.\n",
    "\n",
    "4.isAlive()-This method returns a boolean value indicating whether the thread is currently executing or not.If the thread has not been started or has completed its execution,this method will return 'False' otherwise it will return 'True'."
   ]
  },
  {
   "cell_type": "code",
   "execution_count": null,
   "id": "1d549abd-e90e-4d12-8824-ec7eb97f3824",
   "metadata": {},
   "outputs": [],
   "source": [
    "4.Write a python program to create two threads.Threads one must print the list of squares and thread two must print the list of cubes.\n",
    "\n",
    "Ans-\n",
    "      import threading\n",
    "    \n",
    "    def print_squares():\n",
    "        for i in range(1, 6):\n",
    "            print(f\"Square of {i} is {i**2}\")\n",
    "            \n",
    "    def print_cubes():\n",
    "        for i in range(1, 6):\n",
    "            print(f\"Cube of {i} is {i**3}\")\n",
    "            \n",
    "    if __name__ == \"__main__\":\n",
    "        t1 = threading.Thread(target=print_squares)\n",
    "        t2 = threading.Thread(target=print_cubes)\n",
    "        \n",
    "        t1.start()\n",
    "        t2.start()\n",
    "        \n",
    "        t1.join()\n",
    "        t2.join()\n",
    "        \n",
    "        print(\"Done\")\n",
    "\n",
    "        \n",
    "output:\n",
    "    square of 1 is 1\n",
    "    cube of 1 is 1\n",
    "    square of 2 is 4\n",
    "    cube of 2 is 8\n",
    "    square of 3 is 9\n",
    "    cube of 3 is 27\n",
    "    square of 4 is 16\n",
    "    cube of 4 is 64\n",
    "    square of 5 is 25\n",
    "    cube of 5 is 125\n",
    "    Done\n",
    "    "
   ]
  },
  {
   "cell_type": "code",
   "execution_count": null,
   "id": "19e75539-fec9-40a1-8d73-f54a66f0a1ad",
   "metadata": {},
   "outputs": [],
   "source": [
    "5.State advantages and disadvantages of multithreading.\n",
    "Ans-\n",
    "    Multithrading is a powerful programming technique that allows a program to execute multiple threads of control con currently,within the same process.\n",
    "    \n",
    "    Advantages:\n",
    "        1.Improved performance\n",
    "        2.Responsiveness\n",
    "        3.Resource sharing\n",
    "        4.Modularity\n",
    "        \n",
    "        \n",
    "    Disadvantages:\n",
    "        1.Complexity\n",
    "        2.Synchronization\n",
    "        3.Increased memory usage\n",
    "        4.Overhead"
   ]
  },
  {
   "cell_type": "code",
   "execution_count": null,
   "id": "cc955fa5-bd95-47e5-9a9b-25ab76bcd65d",
   "metadata": {},
   "outputs": [],
   "source": [
    "6.Explain deadlocks and race conditions\n",
    "\n",
    "Ans-\n",
    "    Deadlock: A deadlock occurs when two or more threads are waiting for each other to release a resources,such as a lock or a semaphore,that they need to continue execution.\n",
    "    In other words,each thread is blocked and waiting for a resource that another thread is holding, and the program becomes stuck in a state where no progress can be made.Deadlocks are serious problem in multithreaded programs and can be difficult to detect and resolve.\n",
    "    \n",
    "    Race condition:A race condition occurs when the behaviour of a program depends on the relatives timing and interleaving of events between two or more threads.\n",
    "    In other words,the outcome of the program can vary depending on the order in which the threads execute.This can lead to predictable or incorrect behaviour,such as data corruption or incorrect program results.Race conditions can occurs when multiple threads access and modify shared resources without proper synchronization or mutual exclusion,leading to data inconsistency and errors.\n",
    "    \n",
    "    To avoid deadlocks and race condtions in multithreaded programs,it is important to follow best practices such as proper synchronization and mutual exclusion,careful design and testing,and using appropriate concurrency libraries and tools.\n",
    "        "
   ]
  }
 ],
 "metadata": {
  "kernelspec": {
   "display_name": "Python 3 (ipykernel)",
   "language": "python",
   "name": "python3"
  },
  "language_info": {
   "codemirror_mode": {
    "name": "ipython",
    "version": 3
   },
   "file_extension": ".py",
   "mimetype": "text/x-python",
   "name": "python",
   "nbconvert_exporter": "python",
   "pygments_lexer": "ipython3",
   "version": "3.10.8"
  }
 },
 "nbformat": 4,
 "nbformat_minor": 5
}
